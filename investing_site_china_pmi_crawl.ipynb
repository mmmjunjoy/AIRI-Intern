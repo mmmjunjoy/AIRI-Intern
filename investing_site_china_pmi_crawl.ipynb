{
  "nbformat": 4,
  "nbformat_minor": 0,
  "metadata": {
    "colab": {
      "provenance": []
    },
    "kernelspec": {
      "name": "python3",
      "display_name": "Python 3"
    },
    "language_info": {
      "name": "python"
    }
  },
  "cells": [
    {
      "cell_type": "code",
      "execution_count": null,
      "metadata": {
        "id": "hRHL726ilMyU"
      },
      "outputs": [],
      "source": [
        "# investing site에서 정보를 크롤링하는 코드 + db에 적재하는 코드이다.\n",
        "\n",
        "# 위 코랩상에선는 크롤링이 잘 수행이 되고 잘 돌아가나 , vs code로 하였을떄는 안되는 것을 파악했다.\n",
        "\n",
        "# 이로써 우리 회사의 ip를 차단했다는 것을 알 수 있는 좋은 경험이었다.\n",
        "\n",
        "import requests\n",
        "from bs4 import BeautifulSoup\n",
        "import logging\n",
        "\n",
        "import time\n",
        "from datetime import datetime, date, timedelta\n",
        "\n",
        "from fastapi import APIRouter, Depends\n",
        "from fastapi_utils.cbv import cbv\n",
        "from sqlalchemy import func, insert, select ,update\n",
        "from sqlalchemy.ext.asyncio import AsyncSession\n",
        "\n",
        "\n",
        "from common.db import db_etc\n",
        "from models.models_etc import InvestingPmiMonthly\n",
        "import pymysql\n"
      ]
    },
    {
      "cell_type": "code",
      "source": [
        "\n",
        "router = APIRouter()\n",
        "logger = logging.getLogger('uvicorn')\n"
      ],
      "metadata": {
        "id": "x3dYh8JelRgG"
      },
      "execution_count": null,
      "outputs": []
    },
    {
      "cell_type": "code",
      "source": [
        "\n",
        "@cbv(router=router)\n",
        "class investingpmi:\n",
        "    db:AsyncSession = Depends(db_etc.get_db)\n",
        "\n",
        "\n",
        "   # 크롤링 수행 후 테스트 \n",
        "    @router.get('/chinapmi',\n",
        "        summary='china pmi information')\n",
        "\n",
        "    \n",
        "    async def caixin_china(self):\n",
        "\n",
        "        try:\n",
        "\n",
        "            URL = 'https://kr.investing.com/economic-calendar/chinese-caixin-manufacturing-pmi-753'\n",
        " \n",
        "            res = requests.get(URL ,headers={\"user-agent\" : \"Mozilla/5.0 (Macintosh; Intel Mac OS X 10_15_7) AppleWebKit/537.36 (KHTML, like Gecko) Chrome/109.0.0.0 Safari/537.36 \"})\n",
        "            print(res)\n",
        "            soup = BeautifulSoup(res.text,'html.parser')\n",
        "\n",
        "            table = soup.find('table' , 'genTbl openTbl ecHistoryTbl')\n",
        "            \n",
        "        \n",
        "            if table != None:\n",
        "                tbody =table.find('tbody')\n",
        "                \n",
        "                \n",
        "                trs = tbody.find_all('tr')\n",
        "\n",
        "                results =[]\n",
        "                for tr in trs:\n",
        "                    \n",
        "                    tds = tr.find_all('td')\n",
        "                    \n",
        "                    item = {\n",
        "                        'release date':f'{tds[0].text}',\n",
        "                        'time' : f'{tds[1].text}',\n",
        "                        'real' : f'{tds[2].text}',\n",
        "                        'prediction' : f'{tds[3].text}',\n",
        "                        'before' : f'{tds[4].text}',\n",
        "                        \n",
        "                        }\n",
        "\n",
        "            \n",
        "                    results.append(item)\n",
        "            \n",
        "                return results\n",
        "\n",
        "        except Exception:\n",
        "            logger.exception('중국 pmi')\n",
        "\n",
        "\n",
        "    async def get_origin_investing(self):\n",
        "      try:\n",
        "        q = select(InvestingPmiMonthly)\n",
        "        rs = await self.db.execute(q)\n",
        "        return rs.scalars().all()\n",
        "\n",
        "      except Exception as e:\n",
        "            print(e)\n",
        "\n",
        "    \n",
        "\n",
        "\n",
        "    # 데이터 베이스 적재 코드\n",
        "\n",
        "\n",
        "    @router.post('/updatechinapmi',\n",
        "        summary='china pmi update 후 적재')\n",
        "\n",
        "\n",
        "    async def update_caixin_china(self):\n",
        "\n",
        "        try:\n",
        "\n",
        "            crawl = await self.caixin_china()\n",
        "            original = await self.get_origin_investing()\n",
        "\n",
        "            for c in crawl:\n",
        "                if c[\"release_date\"] == datetime.today: \n",
        "                    # 가장 오래된 datetime , 언제 업데이트를 실행하게 될지 확실하지 않기 때문에 에어플로우를 \n",
        "                    # 에어플로우 기간을 업데이트 될것 같은 시기 쯤 일주일 정도를 해놓고 맞는 값이 있는지 확인해주자 \n",
        "                    original[\"release_date\"] = c[\"release_date\"]\n",
        "                    original[\"time\"] = datetime.now\n",
        "                    original[\"real\"] = c[\"real\"]\n",
        "                    original[\"prediction\"] = c[\"prediction\"]\n",
        "                    original[\"before\"] = c[\"before\"]\n",
        "\n",
        "\n",
        "\n",
        "                await self.db.commit()\n",
        "\n",
        "        except Exception as e:\n",
        "            print(f\"error : {e.with_traceback()}\")\n",
        "            return None\n",
        "\n",
        "\n",
        "\n",
        "                \n",
        "\n",
        "            \n",
        "\n",
        "\n",
        "\n",
        "\n",
        "\n",
        "        "
      ],
      "metadata": {
        "id": "Bf6khw-_lRiE"
      },
      "execution_count": null,
      "outputs": []
    },
    {
      "cell_type": "code",
      "source": [],
      "metadata": {
        "id": "BbDKhCIWlRkm"
      },
      "execution_count": null,
      "outputs": []
    },
    {
      "cell_type": "code",
      "source": [],
      "metadata": {
        "id": "_VkUgO8slRm9"
      },
      "execution_count": null,
      "outputs": []
    },
    {
      "cell_type": "code",
      "source": [],
      "metadata": {
        "id": "zZADlvzflRpU"
      },
      "execution_count": null,
      "outputs": []
    },
    {
      "cell_type": "code",
      "source": [],
      "metadata": {
        "id": "3AlNGXqrlRru"
      },
      "execution_count": null,
      "outputs": []
    },
    {
      "cell_type": "code",
      "source": [],
      "metadata": {
        "id": "Pw5QBgjAlRt3"
      },
      "execution_count": null,
      "outputs": []
    },
    {
      "cell_type": "code",
      "source": [],
      "metadata": {
        "id": "lrtP5aNalRwH"
      },
      "execution_count": null,
      "outputs": []
    }
  ]
}