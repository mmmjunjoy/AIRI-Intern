{
  "nbformat": 4,
  "nbformat_minor": 0,
  "metadata": {
    "colab": {
      "provenance": []
    },
    "kernelspec": {
      "name": "python3",
      "display_name": "Python 3"
    },
    "language_info": {
      "name": "python"
    }
  },
  "cells": [
    {
      "cell_type": "code",
      "execution_count": null,
      "metadata": {
        "id": "NR9RZeI_3wd_"
      },
      "outputs": [],
      "source": [
        "# airflow 기본 동작하게끔 하는 코드"
      ]
    },
    {
      "cell_type": "code",
      "source": [
        "rom airflow import DAG\n",
        "from airflow.operators.bash_operator import BashOperator\n",
        "from airflow.operators.dummy_operator import DummyOperator\n",
        "from airflow.operators.python_operator import PythonOperator\n",
        "from datetime import datetime, timedelta\n",
        "\n",
        "dag = DAG('hello-airflow', description='Hello airflow DAG',\n",
        "        schedule_interval = '* * * * *',\n",
        "        start_date = datetime(2020,4,7), catchup = False)\n",
        "\n",
        "def print_hello():\n",
        "    now = datetime.now()\n",
        "    nowDatetime = now.strftime('%Y-%m-%d %H:%M:%S')\n",
        "    f = open(\"/Users/pbj0812/Desktop/test_code/test_airflow/\"+str(nowDatetime)+\".txt\", 'w')\n",
        "    f.write(str(nowDatetime))\n",
        "    f.close()\n",
        "    return 'Hello Airflow'\n",
        "\n",
        "python_task = PythonOperator(\n",
        "        task_id = 'python_operator',\n",
        "        python_callable = print_hello,\n",
        "        dag = dag)\n",
        "\n",
        "bash_task = BashOperator(\n",
        "        task_id = 'print_date',\n",
        "        bash_command = 'date',\n",
        "        dag = dag)\n",
        "\n",
        "bash_task.set_downstream(python_task)"
      ],
      "metadata": {
        "id": "xqHed0Wi307C"
      },
      "execution_count": null,
      "outputs": []
    }
  ]
}