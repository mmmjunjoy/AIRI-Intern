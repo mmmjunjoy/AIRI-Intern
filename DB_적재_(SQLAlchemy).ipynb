{
  "nbformat": 4,
  "nbformat_minor": 0,
  "metadata": {
    "colab": {
      "provenance": []
    },
    "kernelspec": {
      "name": "python3",
      "display_name": "Python 3"
    },
    "language_info": {
      "name": "python"
    }
  },
  "cells": [
    {
      "cell_type": "code",
      "execution_count": null,
      "metadata": {
        "id": "rnK6MsxsMYTU"
      },
      "outputs": [],
      "source": [
        "# 로보 어드바이저 (DB 적재 예제)\n",
        "\n",
        "import os, pymongo, requests, json, logging ,time\n",
        "from datetime import datetime,timedelta\n",
        "from fastapi import APIRouter, Depends\n",
        "from fastapi_utils.cbv import cbv\n",
        "from pydantic import BaseModel\n",
        "from sqlalchemy.ext.asyncio import AsyncSession\n",
        "from models.models_vault import StockBasicInformation as db_sbi\n",
        "from sqlalchemy import select\n",
        "from db import get_db_mongo ,get_db_vault\n",
        "\n",
        "\n",
        "@cbv(router=router)\n",
        "class KrxEtfTrackingErrorRate:\n",
        "    db:AsyncSession = Depends(get_db_mongo)\n",
        "\n",
        "    class IndividualParam(BaseModel):\n",
        "        start_date : str = DATATODAY\n",
        "        end_date : str = DATATODAY\n",
        "\n",
        "    async def EetfTickerList(self):\n",
        "        async with get_db_vault() as collection:\n",
        "            q = select(db_sbi)\\\n",
        "                .where(\n",
        "                    db_sbi.stock_type == 'EF',\n",
        "                    db_sbi.delisting_date == None,\n",
        "                )\n",
        "            collection\n",
        "            sql = await collection.execute(q)\n",
        "            results = sql.scalars().all()\n",
        "            res = []\n",
        "            for d in results:\n",
        "                item_dict = d.__dict__\n",
        "                if '_sa_instance_state' in item_dict:\n",
        "                    del(item_dict['_sa_instance_state'])\n",
        "                res.append(item_dict)\n",
        "            return res\n"
      ]
    }
  ]
}