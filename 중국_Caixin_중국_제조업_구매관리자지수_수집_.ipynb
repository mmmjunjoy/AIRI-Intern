{
  "nbformat": 4,
  "nbformat_minor": 0,
  "metadata": {
    "colab": {
      "provenance": []
    },
    "kernelspec": {
      "name": "python3",
      "display_name": "Python 3"
    },
    "language_info": {
      "name": "python"
    }
  },
  "cells": [
    {
      "cell_type": "code",
      "execution_count": 16,
      "metadata": {
        "colab": {
          "base_uri": "https://localhost:8080/"
        },
        "id": "3CBRnydYi2F8",
        "outputId": "f0975390-1669-4c45-e55a-ddfb30e5900c"
      },
      "outputs": [
        {
          "output_type": "stream",
          "name": "stdout",
          "text": [
            "Looking in indexes: https://pypi.org/simple, https://us-python.pkg.dev/colab-wheels/public/simple/\n",
            "Requirement already satisfied: bs4 in /usr/local/lib/python3.8/dist-packages (0.0.1)\n",
            "Requirement already satisfied: beautifulsoup4 in /usr/local/lib/python3.8/dist-packages (from bs4) (4.6.3)\n"
          ]
        }
      ],
      "source": [
        "!pip install bs4"
      ]
    },
    {
      "cell_type": "code",
      "source": [
        "import requests\n",
        "\n",
        "from bs4 import BeautifulSoup"
      ],
      "metadata": {
        "id": "ujqr7VOaoWb9"
      },
      "execution_count": 17,
      "outputs": []
    },
    {
      "cell_type": "code",
      "source": [
        "URL = 'https://kr.investing.com/economic-calendar/chinese-caixin-manufacturing-pmi-753'\n",
        "\n",
        "\n",
        "def caixin_china():\n",
        "  res = requests.get(URL)\n",
        "\n",
        "\n",
        "  soup = BeautifulSoup(res.text,'html.parser')\n",
        "  table = soup.find('table' , 'genTbl openTbl ecHistoryTbl')\n",
        "  tbody =table.find('tbody')\n",
        "  trs = tbody.find_all('tr')\n",
        "\n",
        "\n",
        "  results =[]\n",
        "\n",
        "  for tr in trs:\n",
        "\n",
        "    tds = tr.find_all('td')\n",
        "\n",
        "\n",
        "    item = {\n",
        "        'release date':f'{tds[0].text}',\n",
        "        'time' : f'{tds[1].text}',\n",
        "        'real' : f'{tds[2].text}',\n",
        "        'prediction' : f'{tds[3].text}',\n",
        "        'before' : f'{tds[4].text}',\n",
        "    \n",
        "    }\n",
        "\n",
        "    print(item)\n",
        "\n",
        "\n",
        "    # results.appned(item)\n",
        "  \n",
        "  return results \n",
        "\n",
        "\n",
        "china = caixin_china()\n",
        "china\n"
      ],
      "metadata": {
        "colab": {
          "base_uri": "https://localhost:8080/"
        },
        "id": "aw_ICSFIoWd7",
        "outputId": "72c3b2e1-df84-487a-d85a-905c0e9347a8"
      },
      "execution_count": 51,
      "outputs": [
        {
          "output_type": "stream",
          "name": "stdout",
          "text": [
            "{'release date': '2023년 03월 01일 (2월)', 'time': '10:45', 'real': '\\xa0', 'prediction': '\\xa0', 'before': '49.2'}\n",
            "{'release date': '2023년 02월 01일 (1월)', 'time': '10:45', 'real': '49.2', 'prediction': '49.5', 'before': '49.0'}\n",
            "{'release date': '2023년 01월 03일 (12월)', 'time': '10:45', 'real': '49.0', 'prediction': '48.8', 'before': '49.4'}\n",
            "{'release date': '2022년 12월 01일 (11월)', 'time': '10:45', 'real': '49.4', 'prediction': '48.9', 'before': '49.2'}\n",
            "{'release date': '2022년 11월 01일 (10월)', 'time': '10:45', 'real': '49.2', 'prediction': '49.0', 'before': '48.1'}\n",
            "{'release date': '2022년 09월 30일 (9월)', 'time': '10:45', 'real': '48.1', 'prediction': '49.5', 'before': '49.5'}\n"
          ]
        },
        {
          "output_type": "execute_result",
          "data": {
            "text/plain": [
              "[]"
            ]
          },
          "metadata": {},
          "execution_count": 51
        }
      ]
    },
    {
      "cell_type": "code",
      "source": [],
      "metadata": {
        "id": "j0ghxGp-oWgb"
      },
      "execution_count": 18,
      "outputs": []
    },
    {
      "cell_type": "code",
      "source": [],
      "metadata": {
        "id": "zjfQsfPZoWiq"
      },
      "execution_count": 18,
      "outputs": []
    },
    {
      "cell_type": "code",
      "source": [],
      "metadata": {
        "id": "q7Sn0cVooWlB"
      },
      "execution_count": 18,
      "outputs": []
    }
  ]
}