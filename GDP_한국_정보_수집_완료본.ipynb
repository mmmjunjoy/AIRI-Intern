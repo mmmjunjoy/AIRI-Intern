{
  "nbformat": 4,
  "nbformat_minor": 0,
  "metadata": {
    "colab": {
      "provenance": []
    },
    "kernelspec": {
      "name": "python3",
      "display_name": "Python 3"
    },
    "language_info": {
      "name": "python"
    }
  },
  "cells": [
    {
      "cell_type": "code",
      "execution_count": 1,
      "metadata": {
        "id": "ubB_rey7jdJG",
        "colab": {
          "base_uri": "https://localhost:8080/"
        },
        "outputId": "1ff3f14a-c807-4874-8963-1dc10ce7f4a4"
      },
      "outputs": [
        {
          "output_type": "stream",
          "name": "stdout",
          "text": [
            "Looking in indexes: https://pypi.org/simple, https://us-python.pkg.dev/colab-wheels/public/simple/\n",
            "Requirement already satisfied: bs4 in /usr/local/lib/python3.8/dist-packages (0.0.1)\n",
            "Requirement already satisfied: beautifulsoup4 in /usr/local/lib/python3.8/dist-packages (from bs4) (4.6.3)\n"
          ]
        }
      ],
      "source": [
        "!pip install bs4"
      ]
    },
    {
      "cell_type": "code",
      "source": [
        "import requests\n",
        "\n",
        "from bs4 import BeautifulSoup"
      ],
      "metadata": {
        "id": "HHAIxA88pxJL"
      },
      "execution_count": 2,
      "outputs": []
    },
    {
      "cell_type": "code",
      "source": [
        "\n",
        "def gdpkorea():\n",
        "   \n",
        "\n",
        "  # 정적 url로 하면 안되고 , 조회를 눌렀을때 불러와지는 정보를 볼 수 있는 url을 써줘야한다.\n",
        "\n",
        "  # 추가로 , 내가 어떤것을 할지 요청할떄 표시해주기 위해 payload data를 써주는 것이 좋다.\n",
        "  \n",
        "  url = 'https://www.index.go.kr/unity/potal/eNara/sub/showStblGams3.do?stts_cd=273601&idx_cd=2736&freq=Y&period=1970:2021'\n",
        "  \n",
        "\n",
        "  header = { 'user-agent': 'Mozilla/5.0 (Macintosh; Intel Mac OS X 10_15_7) AppleWebKit/537.36 (KHTML, like Gecko) Chrome/109.0.0.0 Safari/537.36',\n",
        "            'accept-language' : 'ko-KR,ko;q=0.9,en-US;q=0.8,en;q=0.7',\n",
        "            'accept':'text/html,application/xhtml+xml,application/xml;q=0.9,image/avif,image/webp,image/apng,*/*;q=0.8,application/signed-exchange;v=b3;q=0.9'\n",
        "  }\n",
        "\n",
        "\n",
        "  data = {'stts_cd' : '273601', 'idx_cd': '2736' ,'freq': 'Y', 'period':'1970:2021'}\n",
        "\n",
        "  res = requests.get(url,headers=header , data =data)\n",
        "\n",
        "\n",
        "\n",
        "  soup = BeautifulSoup(res.text ,'html.parser')\n",
        "\n",
        "\n",
        "  tbody = soup.find('tbody') # 명목 GDP, 실질 GDP성장률 수집때 필요 \n",
        "\n",
        "\n",
        "\n",
        "\n",
        "\n",
        "  # 'year'\n",
        "  # 년도 항목 가져오기\n",
        "  \n",
        "  thead = soup.find('thead')\n",
        "\n",
        "  ths = thead.find_all('th' ,{'class':'tc'})\n",
        "\n",
        "\n",
        "\n",
        "\n",
        "  \n",
        "  resultyear=[]\n",
        "\n",
        "  for th in ths:\n",
        "\n",
        "    itemyear =  f'{th.text}'\n",
        "    \n",
        "\n",
        "\n",
        "    \n",
        "    resultyear.append(itemyear)\n",
        "\n",
        "\n",
        "\n",
        "\n",
        "\n",
        "\n",
        "\n",
        "  #  'Nominal GDP' \n",
        "  # 국내 총 생산 (명목 GDP) 열 정보\n",
        "\n",
        "  tr1 = tbody.find_all('tr' , {'id' : 'tr_273601_1'} )\n",
        "\n",
        "\n",
        "  \n",
        "  resultnominal =[]\n",
        "  for tr in tr1:\n",
        "\n",
        "    \n",
        "   \n",
        "    tds = tr.find_all('td' )\n",
        "\n",
        "\n",
        "    for td in tds:\n",
        "\n",
        "      itemnominal = f'{td.text}'\n",
        "\n",
        "      \n",
        "\n",
        "\n",
        "      resultnominal.append(itemnominal)\n",
        "\n",
        "\n",
        "  \n",
        "\n",
        "  # 'real GDP growth rate' :\n",
        "  # 경제성장률 (실질 GDP 성장률)\n",
        "\n",
        "  tr2 = tbody.find_all('tr',{'id' : 'tr_273601_2'})\n",
        "\n",
        "\n",
        "  resultreal =[]\n",
        "  for trr in tr2:\n",
        "\n",
        "    \n",
        "   \n",
        "    tdss = trr.find_all('td' )\n",
        "\n",
        "\n",
        "    for tdd in tdss:\n",
        "\n",
        "      itemreal = f'{tdd.text}'\n",
        "\n",
        "\n",
        "      resultreal.append(itemreal)\n",
        "\n",
        "\n",
        "\n",
        "  # return resultyear , resultnominal,resultreal\n",
        "    \n",
        "\n",
        "\n",
        "\n",
        "  # 딕셔너리로 하나로 묶어주기 함수 zip()\n",
        "\n",
        "  # 해결책 : 인덱스 or 개당 새로운 변수 선언하여 item 안에 넣어주는 방식을 사용해보자 \n",
        "\n",
        "  res =[]\n",
        "\n",
        "  for ryear,tnominal,rreal in zip(resultyear,resultnominal,resultreal):\n",
        "\n",
        "    item ={\n",
        "        'date': ryear,\n",
        "        'nominalGDP' :tnominal,\n",
        "        'realGDPgrowthrate': rreal,\n",
        "    }\n",
        "\n",
        "\n",
        "    res.append(item)\n",
        "\n",
        "\n",
        "  print(res)\n",
        "\n",
        "\n",
        "\n",
        "\n",
        "    \n",
        "\n",
        "\n",
        "\n",
        "\n",
        "\n",
        " \n",
        "\n",
        "\n",
        "\n",
        "\n",
        "\n",
        "\n",
        "gdpkorea()\n",
        "\n"
      ],
      "metadata": {
        "id": "GJt5qLrDonCr",
        "colab": {
          "base_uri": "https://localhost:8080/"
        },
        "outputId": "9380db74-9d14-49ec-ea33-ccaf89b07f45"
      },
      "execution_count": 80,
      "outputs": [
        {
          "output_type": "stream",
          "name": "stdout",
          "text": [
            "[{'date': '1970', 'nominalGDP': '2,796.6', 'realGDPgrowthrate': '10.1'}, {'date': '1971', 'nominalGDP': '3,438.0', 'realGDPgrowthrate': '10.5'}, {'date': '1972', 'nominalGDP': '4,267.7', 'realGDPgrowthrate': '7.2'}, {'date': '1973', 'nominalGDP': '5,527.3', 'realGDPgrowthrate': '14.9'}, {'date': '1974', 'nominalGDP': '7,905.0', 'realGDPgrowthrate': '9.5'}, {'date': '1975', 'nominalGDP': '10,543.6', 'realGDPgrowthrate': '7.8'}, {'date': '1976', 'nominalGDP': '14,472.8', 'realGDPgrowthrate': '13.2'}, {'date': '1977', 'nominalGDP': '18,608.1', 'realGDPgrowthrate': '12.3'}, {'date': '1978', 'nominalGDP': '25,154.5', 'realGDPgrowthrate': '11.0'}, {'date': '1979', 'nominalGDP': '32,402.3', 'realGDPgrowthrate': '8.7'}, {'date': '1980', 'nominalGDP': '39,725.1', 'realGDPgrowthrate': '-1.6'}, {'date': '1981', 'nominalGDP': '49,669.8', 'realGDPgrowthrate': '7.2'}, {'date': '1982', 'nominalGDP': '57,286.6', 'realGDPgrowthrate': '8.3'}, {'date': '1983', 'nominalGDP': '68,080.1', 'realGDPgrowthrate': '13.4'}, {'date': '1984', 'nominalGDP': '78,591.3', 'realGDPgrowthrate': '10.6'}, {'date': '1985', 'nominalGDP': '88,129.7', 'realGDPgrowthrate': '7.8'}, {'date': '1986', 'nominalGDP': '102,985.8', 'realGDPgrowthrate': '11.3'}, {'date': '1987', 'nominalGDP': '121,697.8', 'realGDPgrowthrate': '12.7'}, {'date': '1988', 'nominalGDP': '145,994.7', 'realGDPgrowthrate': '12.0'}, {'date': '1989', 'nominalGDP': '165,801.8', 'realGDPgrowthrate': '7.1'}, {'date': '1990', 'nominalGDP': '200,556.2', 'realGDPgrowthrate': '9.9'}, {'date': '1991', 'nominalGDP': '242,481.1', 'realGDPgrowthrate': '10.8'}, {'date': '1992', 'nominalGDP': '277,540.8', 'realGDPgrowthrate': '6.2'}, {'date': '1993', 'nominalGDP': '315,181.3', 'realGDPgrowthrate': '6.9'}, {'date': '1994', 'nominalGDP': '372,493.4', 'realGDPgrowthrate': '9.3'}, {'date': '1995', 'nominalGDP': '436,988.8', 'realGDPgrowthrate': '9.6'}, {'date': '1996', 'nominalGDP': '490,850.9', 'realGDPgrowthrate': '7.9'}, {'date': '1997', 'nominalGDP': '542,001.8', 'realGDPgrowthrate': '6.2'}, {'date': '1998', 'nominalGDP': '537,215.3', 'realGDPgrowthrate': '-5.1'}, {'date': '1999', 'nominalGDP': '591,453.0', 'realGDPgrowthrate': '11.5'}, {'date': '2000', 'nominalGDP': '651,634.4', 'realGDPgrowthrate': '9.1'}, {'date': '2001', 'nominalGDP': '707,021.3', 'realGDPgrowthrate': '4.9'}, {'date': '2002', 'nominalGDP': '784,741.3', 'realGDPgrowthrate': '7.7'}, {'date': '2003', 'nominalGDP': '837,365.0', 'realGDPgrowthrate': '3.1'}, {'date': '2004', 'nominalGDP': '908,439.2', 'realGDPgrowthrate': '5.2'}, {'date': '2005', 'nominalGDP': '957,447.8', 'realGDPgrowthrate': '4.3'}, {'date': '2006', 'nominalGDP': '1,005,601.5', 'realGDPgrowthrate': '5.3'}, {'date': '2007', 'nominalGDP': '1,089,660.2', 'realGDPgrowthrate': '5.8'}, {'date': '2008', 'nominalGDP': '1,154,216.5', 'realGDPgrowthrate': '3.0'}, {'date': '2009', 'nominalGDP': '1,205,347.7', 'realGDPgrowthrate': '0.8'}, {'date': '2010', 'nominalGDP': '1,322,611.2', 'realGDPgrowthrate': '6.8'}, {'date': '2011', 'nominalGDP': '1,388,937.2', 'realGDPgrowthrate': '3.7'}, {'date': '2012', 'nominalGDP': '1,440,111.4', 'realGDPgrowthrate': '2.4'}, {'date': '2013', 'nominalGDP': '1,500,819.1', 'realGDPgrowthrate': '3.2'}, {'date': '2014', 'nominalGDP': '1,562,928.9', 'realGDPgrowthrate': '3.2'}, {'date': '2015', 'nominalGDP': '1,658,020.4', 'realGDPgrowthrate': '2.8'}, {'date': '2016', 'nominalGDP': '1,740,779.6', 'realGDPgrowthrate': '2.9'}, {'date': '2017', 'nominalGDP': '1,835,698.2', 'realGDPgrowthrate': '3.2'}, {'date': '2018', 'nominalGDP': '1,898,192.6', 'realGDPgrowthrate': '2.9'}, {'date': '2019', 'nominalGDP': '1,924,498.1', 'realGDPgrowthrate': '2.2'}, {'date': '2020', 'nominalGDP': '1,940,726.2', 'realGDPgrowthrate': '-0.7'}, {'date': '2021', 'nominalGDP': '2,071,658.0', 'realGDPgrowthrate': '4.1'}]\n"
          ]
        }
      ]
    },
    {
      "cell_type": "code",
      "source": [],
      "metadata": {
        "id": "jXpRYIX_onHa"
      },
      "execution_count": 3,
      "outputs": []
    },
    {
      "cell_type": "code",
      "source": [],
      "metadata": {
        "id": "tk-FTaEmonJ5"
      },
      "execution_count": 3,
      "outputs": []
    },
    {
      "cell_type": "code",
      "source": [],
      "metadata": {
        "id": "CoehuAUconMR"
      },
      "execution_count": 3,
      "outputs": []
    },
    {
      "cell_type": "code",
      "source": [],
      "metadata": {
        "id": "_72ZwCtFonOt"
      },
      "execution_count": 3,
      "outputs": []
    },
    {
      "cell_type": "code",
      "source": [],
      "metadata": {
        "id": "6y1cT6WsonRD"
      },
      "execution_count": 3,
      "outputs": []
    },
    {
      "cell_type": "code",
      "source": [],
      "metadata": {
        "id": "21pSNw9ZonT_"
      },
      "execution_count": 3,
      "outputs": []
    }
  ]
}