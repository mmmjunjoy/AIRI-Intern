{
  "nbformat": 4,
  "nbformat_minor": 0,
  "metadata": {
    "colab": {
      "provenance": []
    },
    "kernelspec": {
      "name": "python3",
      "display_name": "Python 3"
    },
    "language_info": {
      "name": "python"
    }
  },
  "cells": [
    {
      "cell_type": "markdown",
      "source": [
        "**오늘의 공시와 , 전종목 기본정보의 공통 항목을 찾으면 , 정보를 기입해주는 로직**"
      ],
      "metadata": {
        "id": "aGJ-6__H2ZJi"
      }
    },
    {
      "cell_type": "code",
      "source": [
        "@router.post('/issuedisclosure',\n",
        "    summary=''\n",
        "  \n",
        "  )\n",
        "\n",
        "#krx_issue와 disclosure 비교 후 해당 값 추가 \n",
        "\n",
        "  async def krx_comparsion(self):\n",
        "    \n",
        "    print(\"start\")\n",
        "    try:\n",
        "\n",
        "      \n",
        "      issueorigin:list[ListedIssue] = await self.krxStockIssue.get_origin_data()\n",
        "      disclosureorigin:list[KindIssue] = await self.get_disclosure_dbdata()\n",
        "\n",
        "      for d in disclosureorigin :\n",
        "        for i in issueorigin:\n",
        "          if d.author == i.ticker_name:\n",
        "            if '권리락' in d.issue_type:\n",
        "              i.right=datetime.today()\n",
        "            elif '배당락' in d.issue_type:\n",
        "              i.allocation=datetime.today()\n",
        "            elif '합병' in d.issue_type:\n",
        "              i.merger=datetime.today()\n",
        "            elif '액면분할' in d.issue_type:\n",
        "              i.stock_split=datetime.today()\n",
        "            elif '유상증자' in d.issue_type:\n",
        "              i.paid=datetime.today()\n",
        "            elif '무상증자' in d.issue_type:\n",
        "              i.free=datetime.today()\n",
        "            elif '유무상증자' in d.issue_type:\n",
        "              i.paidfree=datetime.today()\n",
        "            elif '상장폐지' in d.issue_type:\n",
        "              i.delisting=datetime.today()\n",
        "            \n",
        "      \n",
        "      await self.db.commit()\n",
        "\n",
        "    \n",
        "    except Exception as e:\n",
        "      print(f\"error : {e.with_traceback()}\")\n",
        "      return None\n",
        "            \n"
      ],
      "metadata": {
        "id": "p9Pe5OmI2aK4"
      },
      "execution_count": null,
      "outputs": []
    },
    {
      "cell_type": "code",
      "source": [],
      "metadata": {
        "id": "TiZp_3nJ2aNG"
      },
      "execution_count": null,
      "outputs": []
    },
    {
      "cell_type": "code",
      "source": [],
      "metadata": {
        "id": "552Twh1p2aPf"
      },
      "execution_count": null,
      "outputs": []
    },
    {
      "cell_type": "code",
      "source": [],
      "metadata": {
        "id": "frJdZvkl2aRi"
      },
      "execution_count": null,
      "outputs": []
    }
  ]
}