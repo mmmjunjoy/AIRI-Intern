{
  "nbformat": 4,
  "nbformat_minor": 0,
  "metadata": {
    "colab": {
      "provenance": []
    },
    "kernelspec": {
      "name": "python3",
      "display_name": "Python 3"
    },
    "language_info": {
      "name": "python"
    }
  },
  "cells": [
    {
      "cell_type": "code",
      "execution_count": null,
      "metadata": {
        "id": "lb9n1rI4Pxoh"
      },
      "outputs": [],
      "source": [
        "import json\n",
        "import pendulum\n",
        "import requests\n",
        "import traceback\n",
        "from datetime import date, datetime\n",
        "\n",
        "from airflow import DAG\n",
        "from airflow.decorators import task\n",
        "from airflow.exceptions import AirflowFailException\n",
        "\n",
        "\n",
        "from config.dp import config as conf_dp\n",
        "from util.proc_log import ProcLogger\n",
        "\n",
        "\n",
        "local_tz = pendulum.timezone('Asia/Seoul')\n",
        "now = datetime.now(tz=local_tz)\n",
        "start_date = datetime(2023, 2, 20, tzinfo=local_tz)\n",
        "\n",
        "proc_logger = ProcLogger(conf_dp)\n",
        "\n",
        "default_args = {\n",
        "    'owner' : '*****',\n",
        "}\n",
        "\n",
        "\n",
        "@task(task_id = 'koreabank_gdp_year')\n",
        "\n",
        "def koreabank_gdp_year():\n",
        "    try:\n",
        "        url = '******'\n",
        "        res = requests.post(url, timeout=300)\n",
        "\n",
        "        return res.text\n",
        "\n",
        "    except Exception:\n",
        "        err_msg = traceback.format_exc()\n",
        "\n",
        "\n",
        "        raise AirflowFailException(err_msg)\n",
        "\n",
        "\n",
        "with DAG(\n",
        "    dag_id = 'scrap_koreabank_gdp_yearly',\n",
        "    start_date =start_date,\n",
        "    schedule_interval = '@yearly', #매년 1/1 자정에 1회 실행  # @yearly 랑 똑같다.\n",
        "    catchup= False,\n",
        "    default_args = default_args,\n",
        "    tags = ['test'],    \n",
        ")as dag:\n",
        "\n",
        "        koreabank_gdp_year()\n"
      ]
    }
  ]
}