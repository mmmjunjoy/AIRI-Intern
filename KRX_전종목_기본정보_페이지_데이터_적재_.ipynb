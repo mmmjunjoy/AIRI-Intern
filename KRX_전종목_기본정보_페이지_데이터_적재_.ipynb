{
  "nbformat": 4,
  "nbformat_minor": 0,
  "metadata": {
    "colab": {
      "provenance": []
    },
    "kernelspec": {
      "name": "python3",
      "display_name": "Python 3"
    },
    "language_info": {
      "name": "python"
    }
  },
  "cells": [
    {
      "cell_type": "code",
      "execution_count": null,
      "metadata": {
        "id": "8v3qciwRVCY4"
      },
      "outputs": [],
      "source": [
        "# 모듈 설치\n",
        "\n",
        "import logging\n",
        "import time\n",
        "import requests\n",
        "from datetime import date ,timedelta,datetime\n",
        "from fastapi import APIRouter, Depends\n",
        "from fastapi_utils.cbv import cbv\n",
        "from pydantic import BaseModel\n",
        "from sqlalchemy import func, insert, select\n",
        "from sqlalchemy.ext.asyncio import AsyncSession\n",
        "from config import config\n",
        "from db import get_db_krx\n",
        "from libs.airi_krx_scraper.data import AiriKrxDataScraper\n",
        "from models.models_krx import AllListedIssues as db_is"
      ]
    },
    {
      "cell_type": "code",
      "source": [
        "\n",
        "router = APIRouter()\n",
        "logger = logging.getLogger('uvicorn')"
      ],
      "metadata": {
        "id": "cnWKNhMfVXMN"
      },
      "execution_count": null,
      "outputs": []
    },
    {
      "cell_type": "code",
      "source": [
        "# db 연결\n",
        "\n",
        "\n",
        "\n",
        "@cbv(router=router)\n",
        "class KrxStockIssue:\n",
        "  db:AsyncSession = Depends(get_db_krx)\n",
        "  # user:Admin = Depends(get_jwt_user)\n",
        "  scraper = AiriKrxDataScraper()\n",
        "\n",
        "  class AllListedIssue(BaseModel):\n",
        "    date:date\n",
        "    lisin_code:str\n",
        "    ticker_symbol:int\n",
        "    ticker_name_full:str\n",
        "    ticker_name:str\n",
        "    ticker_name_eng:str\n",
        "    listing_date:str\n",
        "    market_type:str\n",
        "    security_type:str\n",
        "    company_category:str\n",
        "    share_type:str\n",
        "    par_value:int\n",
        "    listed_share:int\n"
      ],
      "metadata": {
        "id": "9P6W1kloVXOU"
      },
      "execution_count": null,
      "outputs": []
    },
    {
      "cell_type": "code",
      "source": [
        "# get\n",
        "\n",
        "\n",
        "@router.get('/all',\n",
        "    summary='전종목 기본정보',\n",
        "    response_model=list[AllListedIssue]\n",
        "  )\n",
        "  async def get_issued_all(self, market_type):\n",
        "    try:\n",
        "      res = self.scraper.get_issued_all(market_type)\n",
        "      return res\n",
        "    except Exception:\n",
        "      logger.exception('전종목 기본정보')\n",
        "      # slack.send('#airi-ra-error', traceback.format_exc())\n",
        "\n",
        "    return None"
      ],
      "metadata": {
        "id": "VvEY-LdYVXQi"
      },
      "execution_count": null,
      "outputs": []
    },
    {
      "cell_type": "code",
      "source": [
        "# post\n",
        "\n",
        "\n",
        "@router.post('/all',\n",
        "    summary='전종목 기본정보 업데이트',\n",
        "    response_model=int,\n",
        "  )\n",
        "\n",
        "async def update_issued_all(self):\n",
        "    try:\n",
        "      res = await self.get_issued_all(self)\n",
        "      # print(res)\n",
        "\n",
        "      if res and len(res) > 0:\n",
        "        await self.db.execute(\n",
        "          insert(db_is),\n",
        "          res,\n",
        "        )\n",
        "        await self.db.commit()\n",
        "\n",
        "      return len(res)\n",
        "    except Exception:\n",
        "      await self.db.rollback()\n",
        "      logger.exception('전종목 기본정보 업데이트')\n",
        "      # slack.send('#airi-ra-error', traceback.format_exc())\n",
        "\n",
        "    return None\n"
      ],
      "metadata": {
        "id": "BOmUO1c7VXU9"
      },
      "execution_count": null,
      "outputs": []
    },
    {
      "cell_type": "code",
      "source": [],
      "metadata": {
        "id": "NcPQ1AGQVXXM"
      },
      "execution_count": null,
      "outputs": []
    },
    {
      "cell_type": "code",
      "source": [],
      "metadata": {
        "id": "wq_N4ffiVXZm"
      },
      "execution_count": null,
      "outputs": []
    },
    {
      "cell_type": "code",
      "source": [],
      "metadata": {
        "id": "A4G6kBlOVXbd"
      },
      "execution_count": null,
      "outputs": []
    },
    {
      "cell_type": "code",
      "source": [],
      "metadata": {
        "id": "rODZCO7MVXdj"
      },
      "execution_count": null,
      "outputs": []
    },
    {
      "cell_type": "code",
      "source": [],
      "metadata": {
        "id": "R4voCmnPVXfm"
      },
      "execution_count": null,
      "outputs": []
    },
    {
      "cell_type": "code",
      "source": [],
      "metadata": {
        "id": "L5Hngfp1VXiE"
      },
      "execution_count": null,
      "outputs": []
    }
  ]
}