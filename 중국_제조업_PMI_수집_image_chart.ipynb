{
  "nbformat": 4,
  "nbformat_minor": 0,
  "metadata": {
    "colab": {
      "provenance": []
    },
    "kernelspec": {
      "name": "python3",
      "display_name": "Python 3"
    },
    "language_info": {
      "name": "python"
    }
  },
  "cells": [
    {
      "cell_type": "code",
      "execution_count": 21,
      "metadata": {
        "colab": {
          "base_uri": "https://localhost:8080/"
        },
        "id": "8oswnnaPS1iC",
        "outputId": "2acc3199-97f4-40a7-883b-5c773a345e87"
      },
      "outputs": [
        {
          "output_type": "stream",
          "name": "stdout",
          "text": [
            "Looking in indexes: https://pypi.org/simple, https://us-python.pkg.dev/colab-wheels/public/simple/\n",
            "Requirement already satisfied: bs4 in /usr/local/lib/python3.8/dist-packages (0.0.1)\n",
            "Requirement already satisfied: beautifulsoup4 in /usr/local/lib/python3.8/dist-packages (from bs4) (4.6.3)\n"
          ]
        }
      ],
      "source": [
        "# 중국 제조업 PMI 수집하는 크롤링\n",
        "\n",
        "# 하지만 , 전체값을 이미지데이터로 가져오기 때문에 어려움을 겪음\n",
        "\n",
        "# 모듈 설치\n",
        "\n",
        "\n",
        "!pip install bs4\n",
        "\n",
        "\n"
      ]
    },
    {
      "cell_type": "code",
      "source": [
        "import requests\n",
        "\n",
        "from bs4 import BeautifulSoup"
      ],
      "metadata": {
        "id": "Q9S8-k6dWUh3"
      },
      "execution_count": 22,
      "outputs": []
    },
    {
      "cell_type": "code",
      "source": [
        "def get_china_pmi():\n",
        "\n",
        "   url = 'https://ko.tradingeconomics.com/china/manufacturing-pmi'\n",
        "\n",
        "\n",
        "   res = requests.get(url, headers = {\n",
        "       \"user-agent\" :\"Mozilla/5.0 (Macintosh; Intel Mac OS X 10_15_7) AppleWebKit/537.36 (KHTML, like Gecko) Chrome/109.0.0.0 Safari/537.36\"\n",
        "   })\n",
        "\n",
        "   # 여기서 url만 던져줬을때는 컴퓨터로 착각을 하고 오류가 발생하지만 , header 값을 줌으로써 정상 작동 하는 것을 확인할 수 있다.\n",
        "\n",
        "   print(res)\n",
        "\n",
        "   print(\"--------\")\n",
        "\n",
        "   print(res.content)\n",
        "\n",
        "\n",
        "   print(\"--------\")\n",
        "\n",
        "   soup = BeautifulSoup(res.content,'html.parser')\n",
        "\n",
        "   print(soup)\n",
        "\n",
        "   return res\n",
        "\n",
        "\n",
        "china = get_china_pmi()\n",
        "\n",
        "china"
      ],
      "metadata": {
        "id": "X4JXeEavUHCp"
      },
      "execution_count": null,
      "outputs": []
    },
    {
      "cell_type": "code",
      "source": [
        "# image chart data라서 정확한 수치를 추출하는데는 어려움이 있음.\n",
        "\n",
        "# 같은 정보를 주는 다른 사이트를 이용하기로 ."
      ],
      "metadata": {
        "id": "vqTUWEhihXtt"
      },
      "execution_count": null,
      "outputs": []
    }
  ]
}