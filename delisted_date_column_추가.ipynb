{
  "nbformat": 4,
  "nbformat_minor": 0,
  "metadata": {
    "colab": {
      "provenance": []
    },
    "kernelspec": {
      "name": "python3",
      "display_name": "Python 3"
    },
    "language_info": {
      "name": "python"
    }
  },
  "cells": [
    {
      "cell_type": "code",
      "execution_count": null,
      "metadata": {
        "id": "TDkFjWxN4JPc"
      },
      "outputs": [],
      "source": [
        " for o in original:\n",
        "          found= False\n",
        "        \n",
        "          for i, n in enumerate(new):\n",
        "            if o.ticker_symbol == n['ticker_symbol']:\n",
        "              n1 = ListedIssue(**n).  ## 필수요소. -> n1. 을 이용하기 위해서 \n",
        "              o.ticker_name_full = n1.ticker_name_full\n",
        "              o.ticker_name = n1.ticker_name\n",
        "              o.ticker_name_eng = n1.ticker_name_eng\n",
        "              o.market_type = n1.market_type\n",
        "              o.share_type = n1.share_type\n",
        "              o.listing_date = n1.listing_date\n",
        "              o.listed_share = n1.listed_share\n",
        "              o.par_value = n1.par_value\n",
        "              o.company_category = n1.company_category\n",
        "              o.security_type = n1.security_type\n",
        "              o.maintain = n1.maintain\n",
        "              # await self.db.execute(f\"UPDATE listed_issue SET ticker_name_full = '{n['ticker_name_full']}', ticker_name = '{n['ticker_name']}' ,  market_type =  '{n['market_type']}' , share_type = '{n['share_type']} ', listing_date ='{n['listing_date']}' , listed_share = '{n['listed_share']}' , par_value = '{n['par_value']}',company_category = '{n['company_category']}',security_type = '{n['security_type']}',maintain = True where ticker_symbol  ='{o[1]}'\")\n",
        "              # # await self.db.commit()\n",
        "              # # print(o[1])\n",
        "              # # print('update')\n",
        "              found = True\n",
        "              break\n",
        "                  \n",
        "          if not found:\n",
        "            print(o.ticker_symbol)\n",
        "            o.maintain = False\n",
        "            o.delisted_date = datetime.today().  ## 폐지가 됬을경우 , 폐지가 된 날짜를 업로드 시켜준다.\n",
        "            # await self.db.execute(f\"UPDATE listed_issue SET maintain = False where ticker_symbol ='{o.ticker_symbol}'\")\n",
        "            # await self.db.commit()\n",
        "            print(\"DROP\")"
      ]
    }
  ]
}