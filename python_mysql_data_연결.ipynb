{
  "nbformat": 4,
  "nbformat_minor": 0,
  "metadata": {
    "colab": {
      "provenance": []
    },
    "kernelspec": {
      "name": "python3",
      "display_name": "Python 3"
    },
    "language_info": {
      "name": "python"
    }
  },
  "cells": [
    {
      "cell_type": "code",
      "execution_count": null,
      "metadata": {
        "id": "mKM3kwEZj50-"
      },
      "outputs": [],
      "source": [
        "\n",
        "#python 에서 mysql data 불러오고 다뤄보기\n",
        "\n",
        "\n",
        "\n",
        "# 모듈 설치 \n",
        "\n",
        "\n",
        "import pymysql\n",
        "\n",
        "\n",
        "\n",
        "# db정보 입력하고 연결\n",
        "\n",
        "\n",
        "dbog = pymysql.connect(host=\"10.100.1.1**\",port=1***06,user=\"*p\",passwd=\"d***23$\",db=\"scrap_krx\", charset='utf8')\n",
        "\n",
        "\n",
        "# cursor 사용하여 db data 이용하기 \n",
        "\n",
        "\n",
        "con= dbog.cursor()\n",
        "\n",
        "# execute 사용하여 sql 문 사용하기\n",
        "\n",
        "con.execute(\"SELECT ticker_symbol FROM listed_issue\")\n",
        "\n",
        "\n",
        "\n",
        "\n",
        "# 클라이언트로 데이터 가지고 오기 \n",
        "\n",
        "\n",
        "rows = con.fetchall()\n"
      ]
    },
    {
      "cell_type": "code",
      "source": [],
      "metadata": {
        "id": "HmzPn7nCkdJn"
      },
      "execution_count": null,
      "outputs": []
    }
  ]
}