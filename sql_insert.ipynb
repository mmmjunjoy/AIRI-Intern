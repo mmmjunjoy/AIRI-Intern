{
  "cells": [
    {
      "cell_type": "code",
      "execution_count": null,
      "metadata": {
        "id": "4HL37qjCvqyV"
      },
      "outputs": [],
      "source": [
        "# sql insert 구문 학습"
      ]
    },
    {
      "cell_type": "code",
      "execution_count": null,
      "metadata": {
        "id": "HEJ5B1-tv38x"
      },
      "outputs": [],
      "source": [
        "# 기본적인 insert 구문\n",
        "\n",
        "INSERT INTO dbo.dept (deptno, dname, loc) \n",
        "VALUES (50, 'IT TEAM', 'SEOUL')"
      ]
    },
    {
      "cell_type": "code",
      "execution_count": null,
      "metadata": {
        "id": "v6zwrsTov3_H"
      },
      "outputs": [],
      "source": [
        "# 입력한 테이블의 모든 칼럼을 추구할 경우의 선언\n",
        "\n",
        "\n",
        "INSERT INTO dbo.dept VALUES (60, 'DEV TEAM', 'PANGYO')\n",
        "\n",
        "# 이런식으로 칼럼에 해당하는 값을 기입해주면 된다."
      ]
    },
    {
      "cell_type": "code",
      "execution_count": null,
      "metadata": {
        "id": "dzfdj9EFwLJL"
      },
      "outputs": [],
      "source": [
        "# KRX 전종목 기본정보 영역에서 상장된 정보 새로 기입해주기 위한 실습"
      ]
    },
    {
      "cell_type": "code",
      "execution_count": null,
      "metadata": {
        "id": "BUpIShWZwLLJ"
      },
      "outputs": [],
      "source": [
        "# 기존 구성 코드 -> 오류발생\n",
        "\n",
        "INSERT INTO (isin_code,ticker_symbol,ticker_name_full,ticker_name,ticker_name_eng,market_type,share_type,listing_date,listed_share,par_value,company_category,security_type,maintain) VALUES('{n['isin_code']}','{n['ticker_symbol']}','{n['ticker_name_full']}','{n['ticker_name']}','{n['ticker_name_eng']}','{n['market_type']}','{n['share_type']}','{n['listing_date']}','{n['listed_share']}','{n['par_value']}','{n['company_category']}','{n['security_type']}','{n['maintain']}')WHERE ticker_symbol ='{n['ticker_symbol']}'"
      ]
    },
    {
      "cell_type": "code",
      "execution_count": null,
      "metadata": {
        "id": "tGjb6WLpwLNX"
      },
      "outputs": [],
      "source": [
        "# 새로 구성하는 코드"
      ]
    },
    {
      "cell_type": "code",
      "execution_count": null,
      "metadata": {
        "id": "ppM2I0eDzv0E"
      },
      "outputs": [],
      "source": [
        "INSERT INTO listed_issue VALUES ('{n['isin_code']}','{n['ticker_symbol']}','{n['ticker_name_full']}','{n['ticker_name']}','{n['ticker_name_eng']}','{n['market_type']}','{n['share_type']}','{n['listing_date']}','{n['listed_share']}','{n['par_value']}','{n['company_category']}','{n['security_type']}', True) WHERE ticker_symbol = 'o[1]'"
      ]
    },
    {
      "cell_type": "code",
      "execution_count": null,
      "metadata": {
        "id": "7GfnEryl1t-g"
      },
      "outputs": [],
      "source": [
        "#문제가 update 뒤 where문이 오류가 난다 -> 이부분 해결필요"
      ]
    },
    {
      "cell_type": "code",
      "execution_count": null,
      "metadata": {
        "id": "U3azL71I1uAZ"
      },
      "outputs": [],
      "source": [
        "# 문제는 sql insert 문에서는 where 가 지원하지 않는 것이였다.\n",
        "\n",
        "INSERT INTO listed_issue VALUES ('{n['isin_code']}','{n['ticker_symbol']}','{n['ticker_name_full']}','{n['ticker_name']}','{n['ticker_name_eng']}','{n['market_type']}','{n['share_type']}','{n['listing_date']}','{n['listed_share']}','{n['par_value']}','{n['company_category']}','{n['security_type']}', True) \n",
        "\n",
        "# 이렇게 where문을 삭제하면 잘 돌아가는 sql 문이란느 것을 확인할 수 있었다.\n",
        "\n",
        "\n",
        "\n"
      ]
    }
  ],
  "metadata": {
    "colab": {
      "provenance": []
    },
    "kernelspec": {
      "display_name": "Python 3",
      "name": "python3"
    },
    "language_info": {
      "name": "python"
    }
  },
  "nbformat": 4,
  "nbformat_minor": 0
}
