{
  "nbformat": 4,
  "nbformat_minor": 0,
  "metadata": {
    "colab": {
      "provenance": []
    },
    "kernelspec": {
      "name": "python3",
      "display_name": "Python 3"
    },
    "language_info": {
      "name": "python"
    }
  },
  "cells": [
    {
      "cell_type": "code",
      "execution_count": null,
      "metadata": {
        "id": "FDAVfzW9QkQv"
      },
      "outputs": [],
      "source": [
        "import json\n",
        "import pendulum\n",
        "import requests\n",
        "import traceback\n",
        "from datetime import date,datetime\n",
        "\n",
        "from airflow import DAG\n",
        "from airflow.decorators import task\n",
        "from airflow.exceptions import AirflowFailException\n",
        "\n",
        "\n",
        "from config.dp import config as conf_dp\n",
        "from util.proc_log import ProcLogger\n",
        "\n",
        "local_tz = pendulum.timezone('Asia/Seoul')\n",
        "now = datetime.now(tz = local_tz)\n",
        "start_date = datetime(2023,2,21 , tzinfo = local_tz)\n",
        "\n",
        "proc_logger = ProcLogger(conf_dp)\n",
        "\n",
        "default_args = {\n",
        "    'owner' : '*****'\n",
        "}\n",
        "\n",
        "@task(task_id = 'koreabank_gdp_quaterly')\n",
        "\n",
        "def koreabank_gdp_quarterly():\n",
        "    try:\n",
        "        url = '****'\n",
        "\n",
        "\n",
        "        res = requests.post(url, timeout =500)\n",
        "\n",
        "        return res.text # 이 부분 알아야 할 필요 \n",
        "\n",
        "\n",
        "    except Exception:\n",
        "\n",
        "        err_msg = traceback.format_exc()\n",
        "\n",
        "        raise AirflowFailException(err_msg)\n",
        "\n",
        "    \n",
        "with DAG(\n",
        "\n",
        "        dag_id = 'scrap_koreabank_gdp_quarterly',\n",
        "        start_date = start_date,\n",
        "        schedule_interval = '@monthly',\n",
        "        catchup = False,\n",
        "        default_args = default_args,\n",
        "        tags  = ['test'],\n",
        "\n",
        ")as dag:\n",
        "\n",
        "            koreabank_gdp_quarterly()"
      ]
    }
  ]
}