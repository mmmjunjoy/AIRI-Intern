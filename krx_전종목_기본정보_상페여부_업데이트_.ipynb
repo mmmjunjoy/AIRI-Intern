{
  "nbformat": 4,
  "nbformat_minor": 0,
  "metadata": {
    "colab": {
      "provenance": []
    },
    "kernelspec": {
      "name": "python3",
      "display_name": "Python 3"
    },
    "language_info": {
      "name": "python"
    }
  },
  "cells": [
    {
      "cell_type": "code",
      "execution_count": null,
      "metadata": {
        "id": "ks5tuG3MlH9r"
      },
      "outputs": [],
      "source": [
        "# router 를 새로 하나 파주어 경로를 만들어준다 \n",
        "# 이 경로는 상폐여부를 비교할수 있는 곳이다.\n",
        "\n",
        "# 여기서 현상태 최신 데이터를 크롤링 해주는 함수와\n",
        "\n",
        "# 지금 적재되어있는 data를 불러오는 함수를 호출하여 사용한다.\n",
        "\n",
        "\n",
        "# 그 후 크게 2개의 for 문을 사용하여 상폐여부를 확인하고 업데이트 시키는 과정을 수행해준다.\n",
        "\n",
        "\n",
        "\n",
        "@router.get('/finalTestAllData')\n",
        "  async def get_finaldata(self):\n",
        "\n",
        "    try:\n",
        "      new = await self.get_issued_all()      \n",
        "      original = await self.get_origin_data()\n",
        "\n",
        "\n",
        "      for o in original:\n",
        "        for n in new:\n",
        "          if o == n['ticker_symbol']:\n",
        "            await self.db.execute(\n",
        "              insert(db_is)\n",
        "    \n",
        "            )\n",
        "            await self.db.commit()\n",
        "\n",
        "          else:\n",
        "            await self.db.execute(\"UPDATE listed_issue SET maintain ='False' \")\n",
        "          \n",
        "          return o\n",
        "\n",
        "      for n in new:\n",
        "        for o in original:\n",
        "          if n['ticker_symbol']== o :\n",
        "            continue\n",
        "\n",
        "          else:\n",
        "            await self.db.execute(\"INSERT INTO listed_issue\")\n",
        "\n",
        "          return o\n",
        "\n",
        "      return \"finish\""
      ]
    }
  ]
}